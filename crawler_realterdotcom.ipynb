{
 "cells": [
  {
   "cell_type": "code",
   "execution_count": 1,
   "metadata": {},
   "outputs": [],
   "source": [
    "from bs4 import BeautifulSoup\n",
    "import pandas as pd\n",
    "\n",
    "#### realtor.com detects machine reading so you will have to download the HTML\n",
    "\n",
    "#import requests\n",
    "#from urllib import urlopen"
   ]
  },
  {
   "cell_type": "code",
   "execution_count": 2,
   "metadata": {},
   "outputs": [],
   "source": [
    "# use listing of `10010` as an example\n",
    "with open('./10010.html', 'r') as f:\n",
    "    webpage = f.read()"
   ]
  },
  {
   "cell_type": "code",
   "execution_count": 3,
   "metadata": {},
   "outputs": [],
   "source": [
    "soup = BeautifulSoup(webpage, 'html.parser')"
   ]
  },
  {
   "cell_type": "code",
   "execution_count": 4,
   "metadata": {},
   "outputs": [],
   "source": [
    "#soup.prettify()"
   ]
  },
  {
   "cell_type": "code",
   "execution_count": 5,
   "metadata": {},
   "outputs": [
    {
     "name": "stdout",
     "output_type": "stream",
     "text": [
      "<li add-lead-form-modal=\"\" class=\"component_property-card js-component_property-card js-quick-view\" data-featured=\"\" data-listingid=\"2913405880\" data-propertyid=\"3392762770\" data-rank=\"1\" data-similar-home-id=\"similar-home-card\" data-url=\"/realestateandhomes-detail/215-E-24th-St-Apt-409_New-York_NY_10010_M33927-62770\" id=\"1\" itemscope=\"\" itemtype=\"http://schema.org/SingleFamilyResidence\">\n",
      "<div class=\"seo-wrap hide\">\n",
      "<span itemprop=\"address\" itemscope=\"\" itemtype=\"http://schema.org/PostalAddress\">\n",
      "<span itemprop=\"streetAddress\">215 E 24th St Apt 409</span>\n",
      "<span itemprop=\"addressLocality\">New York</span>\n",
      "<span itemprop=\"addressRegion\">NY</span>\n",
      "<span itemprop=\"postalCode\">10010</span>\n",
      "</span>\n",
      "<span class=\"listing-geo\" itemprop=\"geo\" itemscope=\"\" itemtype=\"http://schema.org/GeoCoordinates\">\n",
      "<meta content=\"40.739339\" itemprop=\"latitude\"/>\n",
      "<meta content=\"-73.981704\" itemprop=\"longitude\"/>\n",
      "</span>\n",
      "</div>\n",
      "<div class=\"pre-card-wrap\">\n",
      "<div class=\"broker-logo\">\n",
      "<img alt=\"Douglas Elliman - 111 Fifth\" class=\"srp-broker-logo js-srp-listing-photos\" data-omtag=\"srp-listMap:result:showcase:office:logo\" data-src=\"https://ap.rdcpix.com/458023381/9fde78979ec1d61a26c57cda81f31101g-c0s.jpg\" data-status=\"for_sale\" src=\"https://ap.rdcpix.com/458023381/9fde78979ec1d61a26c57cda81f31101g-c0s.jpg\" title=\"Douglas Elliman - 111 Fifth\">\n",
      "</img></div>\n",
      "<div class=\"broker-info\">\n",
      "<div class=\"ellipsis\">\n",
      "<span>Brokered by </span>\n",
      "<span data-label=\"property-broker\">Douglas Elliman - 111 Fifth</span>\n",
      "</div>\n",
      "</div>\n",
      "<div class=\"label-wrap\">\n",
      "<span class=\"label c_label label-green\" data-label=\"property-label-new\">\n",
      "            New\n",
      "          </span>\n",
      "<span class=\"label c_label label-dark-transparent label-outline-none\" data-label=\"property-label-open-house\" itemscope=\"\" itemtype=\"http://schema.org/Event\">\n",
      "<span content=\"Open House - 12:00 - 1:30 PM\" data-label=\"property-openhouse\" itemprop=\"name\">Open House 2/23</span>\n",
      "<meta content=\"https://www.realtor.com/realestateandhomes-detail/215-E-24th-St-Apt-409_New-York_NY_10010_M33927-62770\" itemprop=\"URL\"/>\n",
      "<meta content=\"2020-02-23T12:00:00+00:00\" itemprop=\"startDate\"/>\n",
      "<meta content=\"2020-02-23T13:30:00+00:00\" itemprop=\"endDate\"/>\n",
      "<span itemprop=\"location\" itemscope=\"\" itemtype=\"http://schema.org/Place\">\n",
      "<meta content=\"215 E 24th St Apt 409\" itemprop=\"name\"/>\n",
      "<span itemprop=\"address\" itemscope=\"\" itemtype=\"http://schema.org/PostalAddress\">\n",
      "<meta content=\"215 E 24th St Apt 409\" itemprop=\"streetAddress\"/>\n",
      "<meta content=\"New York\" itemprop=\"addressLocality\"/>\n",
      "<meta content=\"NY\" itemprop=\"addressRegion\"/>\n",
      "<meta content=\"10010\" itemprop=\"postalCode\"/>\n",
      "</span>\n",
      "</span>\n",
      "</span>\n",
      "</div>\n",
      "</div>\n",
      "<div class=\"card-box js-navigate-to js-record-user-activity\" data-featured-token=\"\" data-is-swapped=\"image_swapped_card_no\" data-remnant=\"\" data-url=\"/realestateandhomes-detail/215-E-24th-St-Apt-409_New-York_NY_10010_M33927-62770\" id=\"3392762770\">\n",
      "<div class=\"photo-wrap\" data-label=\"property-photo\">\n",
      "<a href=\"/realestateandhomes-detail/215-E-24th-St-Apt-409_New-York_NY_10010_M33927-62770\">\n",
      "<img alt=\"Photo of 215 E 24th St Apt 409, New York, NY 10010\" class=\"js-srp-listing-photos main-photo\" data-alternatephoto=\"https://ap.rdcpix.com/6c36ff072cf7dbe19d78295a539aa9b1l-w2444949125xd-w480_h480_q80.jpg\" data-atf=\"true\" data-omtag=\"for_sale:srp_list:card:result_photo\" data-src=\"https://ap.rdcpix.com/6c36ff072cf7dbe19d78295a539aa9b1l-w1862320763xd-w480_h480_q80.jpg\" itemprop=\"image\" onload='markAs(\"above-the-fold\",\"first-meaningful-paint\")' src=\"https://ap.rdcpix.com/6c36ff072cf7dbe19d78295a539aa9b1l-w1862320763xd-w480_h480_q80.jpg\">\n",
      "</img></a>\n",
      "<div class=\"photo-wrap-detail-overlay\"></div>\n",
      "</div>\n",
      "<div class=\"save-wrap icon-br-pos ab-icon-size\" data-listing-id=\"2913405880\" data-property-id=\"3392762770\" data-status=\"for_sale\">\n",
      "<a class=\"btn-save-listing srp-save-not-logged-in js-save-trigger\" data-label=\"property-save\" data-omtag=\"for_sale:srp_list:card:listing_save\" href=\"\" title=\"Save\">\n",
      "<span class=\"rdc-heart-icon-wrap js-no-listing-click\">\n",
      "<svg aria-labelledby=\"save-listing-1\" class=\"rdc-heart-icon js-no-listing-click\" height=\"40\" role=\"img\" tabindex=\"-1\" viewbox=\"0 0 40 40\" width=\"40\" xmlns=\"http://www.w3.org/2000/svg\">\n",
      "<title id=\"save-listing-1\">save the %= l_id.to_i.ordinalize %&gt; listing</title>\n",
      "<path class=\"jsx-2877931502\" d=\"M20 8.3c4.9-8 18.5-5.9 18.5 5l-.1 1.9c-.8 4.6-4 9.3-8.9 14a66.6 66.6 0 0 1-8.7 7l-.7.6-.8-.5a27.6 27.6 0 0 1-2.8-1.7c-2-1.4-4-3-6-4.7-5.6-5-9-10.3-9-15.8A10 10 0 0 1 20 8.3z\" fill=\"rgba(0,0,0,0.4)\" stroke=\"#fff\" stroke-width=\"3\"></path>\n",
      "</svg>\n",
      "</span>\n",
      "</a> </div>\n",
      "<div class=\"detail-wrap ab-detail-padding\">\n",
      "<div class=\"photo-overlay\">\n",
      "<div class=\"photo-overlay-details\">\n",
      "<div class=\"property-type\">Co-op</div>\n",
      "</div>\n",
      "<div class=\"price ab-price\" data-label=\"property-price\">\n",
      "<div itemscope=\"\" itemtype=\"http://schema.org/Product\">\n",
      "<link href=\"http://www.productontology.org/id/Real_estate\" itemprop=\"additionalType\"/>\n",
      "<meta content=\"https://ap.rdcpix.com/6c36ff072cf7dbe19d78295a539aa9b1l-w1862320763xd-w480_h480_q80.jpg\" itemprop=\"image\"/>\n",
      "<meta content=\"215 E 24th St Apt 409, New York, NY 10010\" itemprop=\"name\"/>\n",
      "<meta content=\"3392762770\" itemprop=\"productID\"/>\n",
      "<meta content=\"realtor.com\" itemprop=\"brand\"/>\n",
      "<meta content=\"Douglas Elliman - 111 Fifth\" itemprop=\"manufacturer\"/>\n",
      "<meta content=\"Open House - Homes For Sale - 215 E 24th St Apt 409, New York, NY 10010\" itemprop=\"description\"/>\n",
      "<div itemprop=\"offers\" itemscope=\"\" itemtype=\"http://schema.org/Offer\">\n",
      "<meta content=\"USD\" itemprop=\"priceCurrency\"/>\n",
      "<meta content=\"550000\" itemprop=\"price\"/>\n",
      "<link href=\"http://purl.org/goodrelations/v1#Sell\" itemprop=\"businessFunction\"/>\n",
      "<meta content=\"Real Estate &gt; Homes For Sale &gt; Open House\" itemprop=\"category\"/>\n",
      "</div>\n",
      "</div>\n",
      "<span class=\"data-price\">$550,000</span>\n",
      "<a class=\"quick-estimate variant-c1 js-quick-estimate\" data-omgtag=\"for_sale:srp_list:card:estimate_payment\" href=\"javascript:void(0);\">\n",
      "                See $/mo\n",
      "              </a>\n",
      "</div>\n",
      "</div>\n",
      "<ul class=\"prop-meta ellipsis ab-prop-meta\">\n",
      "<li data-label=\"property-meta-beds\"><span class=\"data-value meta-beds\">0</span> bed</li>\n",
      "<li data-label=\"property-meta-baths\"><span class=\"data-value\">1</span> bath</li>\n",
      "</ul>\n",
      "<div class=\"location-wrapper-relative ab-location-display\">\n",
      "<div class=\"address ellipsis ab-address-text ab-address-margin-c1\" data-label=\"property-address\">\n",
      "<a href=\"/realestateandhomes-detail/215-E-24th-St-Apt-409_New-York_NY_10010_M33927-62770\">\n",
      "<span class=\"listing-street-address\">\n",
      "                  215 E 24th St Apt 409,\n",
      "                  </span>\n",
      "<span class=\"listing-city\">New York</span>,\n",
      "                  <span class=\"listing-region\">NY</span>\n",
      "<span class=\"listing-postal\">10010</span>\n",
      "</a>\n",
      "</div>\n",
      "<div class=\"cta-wrap ab-cta-wrap ab-cta-margin-c1\">\n",
      "<a class=\"cta-btn before-contact js-no-listing-click round-cta\" data-omtag=\"for_sale:srp_list:card:contact_agent\" data-target=\"#srp-lead-modal[listing-id='2913405880']\" data-toggle=\"modal\" href=\"javascript:void(0);\">\n",
      "                    Email Agent\n",
      "                </a>\n",
      "<a class=\"cta-btn after-contact\" href=\"javascript:void(0);\">\n",
      "                  Contacted\n",
      "                </a>\n",
      "</div>\n",
      "</div>\n",
      "<span class=\"sm-arrow hide\"></span>\n",
      "</div>\n",
      "</div>\n",
      "<div add-lead-form-modal=\"\" class=\"data-wrap\" data-advertiserid-agent=\"2279164\" data-advertiserid-broker=\"2277901\" data-advertiserid-office=\"2277890\" data-baths=\"1\" data-baths_full=\"1\" data-baths_half=\"\" data-community_id=\"\" data-community_name=\"\" data-display_tcpa_message=\"false\" data-gallery-photos=\"\" data-lead_attributes='{\"show_contact_a_lender\":false,\"lead_type\":\"advantage_pro\",\"is_lcm_enabled\":false,\"form_type\":\"classic\",\"flip_the_market_enabled\":false}' data-listingid=\"2913405880\" data-lot_size=\"\" data-omtag=\"srp-listMap:result:link\" data-page=\"SRPLIST\" data-plan_id=\"\" data-plan_name=\"215 E 24th St Apt 409\" data-price=\"550000\" data-product_name=\"advantage_pro\" data-producttype=\"core.agent,core.broker,listing_owner_brand.broker,listing_owner_lead.broker\" data-propertyid=\"3392762770\" data-propertytype=\"\" data-proptype=\"M\" data-search_flags='{\"is_cobroke\":false,\"is_showcase\":false,\"is_suppress_map_pin\":false,\"is_address_suppressed\":false,\"is_foreclosure\":false,\"is_advantage_pro\":true,\"is_spec_home\":false}' data-spec_id=\"\" data-status=\"for_sale\" data-transition_market=\"false\" data-type=\"condo\" data-url=\"/realestateandhomes-detail/215-E-24th-St-Apt-409_New-York_NY_10010_M33927-62770\" id=\"1\"></div>\n",
      "</li>\n"
     ]
    }
   ],
   "source": [
    "# this is your listing\n",
    "for listing in soup.find_all(attrs={\"class\" : \"component_property-card js-component_property-card js-quick-view\"}):\n",
    "    #print(ul.text)\n",
    "    #break\n",
    "    print(listing)\n",
    "    break\n",
    "    "
   ]
  },
  {
   "cell_type": "code",
   "execution_count": 6,
   "metadata": {},
   "outputs": [
    {
     "data": {
      "text/plain": [
       "'$550,000'"
      ]
     },
     "execution_count": 6,
     "metadata": {},
     "output_type": "execute_result"
    }
   ],
   "source": [
    "listing = soup.find_all(attrs={\"class\" : \"component_property-card js-component_property-card js-quick-view\"})\n",
    "# this is how your find the price\n",
    "# estimate monthly payment - quick-estimate variant-c1 js-quick-estimate active\n",
    "price = listing[0].findChildren(attrs={\"class\" : \"data-price\"})\n",
    "price[0].text"
   ]
  },
  {
   "cell_type": "code",
   "execution_count": 7,
   "metadata": {},
   "outputs": [
    {
     "data": {
      "text/plain": [
       "'0'"
      ]
     },
     "execution_count": 7,
     "metadata": {},
     "output_type": "execute_result"
    }
   ],
   "source": [
    "# number of bedroom\n",
    "# number of bathroom - property-meta-baths\n",
    "bed = listing[0].findChildren(attrs={\"class\" : \"data-value meta-beds\"})\n",
    "bed[0].text"
   ]
  },
  {
   "cell_type": "code",
   "execution_count": 8,
   "metadata": {},
   "outputs": [
    {
     "data": {
      "text/plain": [
       "'215 E 24th St Apt 409'"
      ]
     },
     "execution_count": 8,
     "metadata": {},
     "output_type": "execute_result"
    }
   ],
   "source": [
    "# street address\n",
    "# city - addressLocality\n",
    "# state - addressRegion\n",
    "# zip - postalCode\n",
    "stradd = bed = listing[0].findChildren(attrs={\"itemprop\" : \"streetAddress\"})\n",
    "stradd[0].text"
   ]
  },
  {
   "cell_type": "code",
   "execution_count": null,
   "metadata": {},
   "outputs": [],
   "source": []
  }
 ],
 "metadata": {
  "kernelspec": {
   "display_name": "Python [conda env:tf_gpu] *",
   "language": "python",
   "name": "conda-env-tf_gpu-py"
  },
  "language_info": {
   "codemirror_mode": {
    "name": "ipython",
    "version": 3
   },
   "file_extension": ".py",
   "mimetype": "text/x-python",
   "name": "python",
   "nbconvert_exporter": "python",
   "pygments_lexer": "ipython3",
   "version": "3.7.5"
  }
 },
 "nbformat": 4,
 "nbformat_minor": 2
}
